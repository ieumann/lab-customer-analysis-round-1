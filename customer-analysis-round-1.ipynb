{
 "cells": [
  {
   "cell_type": "markdown",
   "id": "dcdb7e06",
   "metadata": {},
   "source": [
    "### Instructions\n",
    "\n",
    "- Read the three files into python as dataframes\n",
    "- Show the DataFrame's shape.\n",
    "- Standardize header names.\n",
    "- Rearrange the columns in the dataframe as needed\n",
    "- Concatenate the three dataframes\n",
    "- Which columns are numerical?\n",
    "- Which columns are categorical?\n",
    "- Understand the meaning of all columns\n",
    "- Perform the data cleaning operations mentioned so far in class\n",
    "\n",
    "  - Delete the column education and the number of open complaints from the dataframe.\n",
    "  - Correct the values in the column customer lifetime value. They are given as a percent, so multiply them by 100 and change `dtype` to `numerical` type.\n",
    "  - Check for duplicate rows in the data and remove if any.\n",
    "  - Filter out the data for customers who have an income of 0 or less."
   ]
  },
  {
   "cell_type": "code",
   "execution_count": null,
   "id": "43fcdb8a",
   "metadata": {},
   "outputs": [],
   "source": [
    "import pandas as pd"
   ]
  },
  {
   "cell_type": "code",
   "execution_count": null,
   "id": "5cd99e76",
   "metadata": {},
   "outputs": [],
   "source": [
    "df1 = pd.read_csv('file1.csv')"
   ]
  },
  {
   "cell_type": "code",
   "execution_count": null,
   "id": "09285bf1",
   "metadata": {},
   "outputs": [],
   "source": [
    "df2 = pd.read_csv('file2.csv')"
   ]
  },
  {
   "cell_type": "code",
   "execution_count": null,
   "id": "92758475",
   "metadata": {},
   "outputs": [],
   "source": [
    "df3 = pd.read_csv('file3.csv')"
   ]
  },
  {
   "cell_type": "code",
   "execution_count": null,
   "id": "20045780",
   "metadata": {},
   "outputs": [],
   "source": [
    "display(df1)\n",
    "display(df2)\n",
    "display(df3)"
   ]
  },
  {
   "cell_type": "code",
   "execution_count": null,
   "id": "6a9497bb",
   "metadata": {},
   "outputs": [],
   "source": [
    "df1.shape"
   ]
  },
  {
   "cell_type": "code",
   "execution_count": null,
   "id": "87c655b7",
   "metadata": {},
   "outputs": [],
   "source": [
    "df2.shape"
   ]
  },
  {
   "cell_type": "code",
   "execution_count": null,
   "id": "80a538df",
   "metadata": {},
   "outputs": [],
   "source": [
    "df3.shape"
   ]
  },
  {
   "cell_type": "code",
   "execution_count": null,
   "id": "c9dbf778",
   "metadata": {},
   "outputs": [],
   "source": [
    "df1.columns = [col_name.lower().replace(' ', '_') for col_name in df1.columns] \n",
    "df1 = df1.rename(columns={'st':'state'})\n",
    "df1.columns"
   ]
  },
  {
   "cell_type": "code",
   "execution_count": null,
   "id": "eb6cd069",
   "metadata": {
    "scrolled": true
   },
   "outputs": [],
   "source": [
    "df2.columns = [col_name.lower().replace(' ', '_') for col_name in df2.columns]\n",
    "df2 = df2.rename(columns={'st':'state'})\n",
    "df2.columns"
   ]
  },
  {
   "cell_type": "code",
   "execution_count": null,
   "id": "4afe76e3",
   "metadata": {},
   "outputs": [],
   "source": [
    "df2 = df2[['customer', 'state', 'gender', 'education', 'customer_lifetime_value',\n",
    "       'income', 'monthly_premium_auto', 'number_of_open_complaints',\n",
    "       'policy_type', 'vehicle_class', 'total_claim_amount']]\n",
    "df2.columns"
   ]
  },
  {
   "cell_type": "code",
   "execution_count": null,
   "id": "1cd152a7",
   "metadata": {},
   "outputs": [],
   "source": [
    "df3.columns = [col_name.lower().replace(' ', '_') for col_name in df3.columns]\n",
    "df3.columns"
   ]
  },
  {
   "cell_type": "code",
   "execution_count": null,
   "id": "8ccc362c",
   "metadata": {},
   "outputs": [],
   "source": [
    "df3 = df3[['customer', 'state', 'gender', 'education', 'customer_lifetime_value',\n",
    "       'income', 'monthly_premium_auto', 'number_of_open_complaints',\n",
    "       'policy_type', 'vehicle_class', 'total_claim_amount']]\n",
    "df3.columns"
   ]
  },
  {
   "cell_type": "code",
   "execution_count": null,
   "id": "a4a39814",
   "metadata": {
    "scrolled": true
   },
   "outputs": [],
   "source": [
    "data = pd.concat([df1, df2, df3])\n",
    "data"
   ]
  },
  {
   "cell_type": "code",
   "execution_count": null,
   "id": "f51d1be3",
   "metadata": {},
   "outputs": [],
   "source": [
    "data.info()"
   ]
  },
  {
   "cell_type": "code",
   "execution_count": null,
   "id": "0dfa7466",
   "metadata": {},
   "outputs": [],
   "source": [
    "data = data.drop(['education'], axis=1)"
   ]
  },
  {
   "cell_type": "code",
   "execution_count": null,
   "id": "98d6b683",
   "metadata": {},
   "outputs": [],
   "source": [
    "data = data.drop(['number_of_open_complaints'], axis=1) "
   ]
  },
  {
   "cell_type": "code",
   "execution_count": null,
   "id": "25dbca5f",
   "metadata": {},
   "outputs": [],
   "source": [
    "data.info()"
   ]
  },
  {
   "cell_type": "code",
   "execution_count": null,
   "id": "b1a92765",
   "metadata": {},
   "outputs": [],
   "source": [
    "data['customer_lifetime_value'] = data['customer_lifetime_value'].replace('%','',regex=True).astype(float)*100\n",
    "data.head()"
   ]
  },
  {
   "cell_type": "code",
   "execution_count": null,
   "id": "181d6cf1",
   "metadata": {},
   "outputs": [],
   "source": [
    "data.info()"
   ]
  },
  {
   "cell_type": "code",
   "execution_count": null,
   "id": "a37c1855",
   "metadata": {},
   "outputs": [],
   "source": [
    "data.duplicated(subset = None, keep = 'first')"
   ]
  },
  {
   "cell_type": "markdown",
   "id": "63921f3d",
   "metadata": {},
   "source": [
    "no duplicates in data"
   ]
  },
  {
   "cell_type": "code",
   "execution_count": null,
   "id": "15a85eaf",
   "metadata": {},
   "outputs": [],
   "source": [
    "data_final = data[data['income'] > 0]\n",
    "display(data_final)"
   ]
  }
 ],
 "metadata": {
  "kernelspec": {
   "display_name": "Python 3 (ipykernel)",
   "language": "python",
   "name": "python3"
  },
  "language_info": {
   "codemirror_mode": {
    "name": "ipython",
    "version": 3
   },
   "file_extension": ".py",
   "mimetype": "text/x-python",
   "name": "python",
   "nbconvert_exporter": "python",
   "pygments_lexer": "ipython3",
   "version": "3.9.13"
  }
 },
 "nbformat": 4,
 "nbformat_minor": 5
}
